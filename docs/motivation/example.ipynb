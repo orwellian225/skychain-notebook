{
 "cells": [
  {
   "cell_type": "code",
   "execution_count": 1,
   "id": "c88501b8",
   "metadata": {
    "vscode": {
     "languageId": "powershell"
    }
   },
   "outputs": [
    {
     "name": "stdout",
     "output_type": "stream",
     "text": [
      "Selected Jupyter core packages...\n",
      "IPython          : 8.11.0\n",
      "ipykernel        : 6.21.3\n",
      "ipywidgets       : not installed\n",
      "jupyter_client   : 8.0.3\n",
      "jupyter_core     : 5.2.0\n",
      "jupyter_server   : 2.4.0\n",
      "jupyterlab       : not installed\n",
      "nbclient         : 0.7.2\n",
      "nbconvert        : 7.2.9\n",
      "nbformat         : 5.7.3\n",
      "notebook         : 6.5.3\n",
      "qtconsole        : not installed\n",
      "traitlets        : 5.9.0\n"
     ]
    }
   ],
   "source": [
    "!jupyter --version"
   ]
  },
  {
   "cell_type": "markdown",
   "id": "79be13fb",
   "metadata": {},
   "source": [
    "# Hello, World!\n",
    "\n",
    "This is a Jupyter Notebook"
   ]
  },
  {
   "cell_type": "code",
   "execution_count": 2,
   "id": "dd6ba527",
   "metadata": {},
   "outputs": [],
   "source": [
    "demo_string = \"Hello World!\""
   ]
  },
  {
   "cell_type": "code",
   "execution_count": 3,
   "id": "154ee1c5",
   "metadata": {},
   "outputs": [
    {
     "name": "stdout",
     "output_type": "stream",
     "text": [
      "Hello World!\n"
     ]
    }
   ],
   "source": [
    "print(demo_string)"
   ]
  },
  {
   "cell_type": "code",
   "execution_count": 4,
   "id": "a4a870a9",
   "metadata": {},
   "outputs": [],
   "source": [
    "demo_string = \"Goodbye World!\""
   ]
  }
 ],
 "metadata": {
  "kernelspec": {
   "display_name": "Python 3",
   "language": "python",
   "name": "python3"
  },
  "language_info": {
   "codemirror_mode": {
    "name": "ipython",
    "version": 3
   },
   "file_extension": ".py",
   "mimetype": "text/x-python",
   "name": "python",
   "nbconvert_exporter": "python",
   "pygments_lexer": "ipython3",
   "version": "3.11.9"
  }
 },
 "nbformat": 4,
 "nbformat_minor": 5
}
